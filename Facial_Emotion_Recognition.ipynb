{
  "nbformat": 4,
  "nbformat_minor": 0,
  "metadata": {
    "colab": {
      "name": "Facial Emotion Recognition.ipynb ",
      "provenance": [],
      "collapsed_sections": [],
      "include_colab_link": true
    },
    "kernelspec": {
      "name": "python3",
      "display_name": "Python 3"
    },
    "accelerator": "TPU"
  },
  "cells": [
    {
      "cell_type": "markdown",
      "metadata": {
        "id": "view-in-github",
        "colab_type": "text"
      },
      "source": [
        "<a href=\"https://colab.research.google.com/github/ShivamSinghal1/FacialEmotionRecognition/blob/master/Facial_Emotion_Recognition.ipynb\" target=\"_parent\"><img src=\"https://colab.research.google.com/assets/colab-badge.svg\" alt=\"Open In Colab\"/></a>"
      ]
    },
    {
      "cell_type": "markdown",
      "metadata": {
        "id": "9QEGLAovABPW"
      },
      "source": [
        "### Importing Libraries"
      ]
    },
    {
      "cell_type": "code",
      "metadata": {
        "id": "JFPkk9LUJPzV"
      },
      "source": [
        "import math\n",
        "import numpy as np\n",
        "import pandas as pd\n",
        "import time\n",
        "from sklearn.svm import SVC\n",
        "import seaborn as sns\n",
        "from matplotlib import pyplot as plt\n",
        "from sklearn.preprocessing import StandardScaler\n",
        "from sklearn.model_selection import train_test_split\n",
        "from sklearn.decomposition import PCA\n",
        "import cv2\n",
        "from sklearn.metrics import confusion_matrix\n",
        "from sklearn.metrics import classification_report\n",
        "from sklearn.model_selection import RandomizedSearchCV\n",
        "from sklearn.model_selection import GridSearchCV\n",
        "from sklearn.neighbors import KNeighborsClassifier"
      ],
      "execution_count": 1,
      "outputs": []
    },
    {
      "cell_type": "markdown",
      "metadata": {
        "id": "27N0euP5Ad7M"
      },
      "source": [
        "### Importing Dataset"
      ]
    },
    {
      "cell_type": "code",
      "metadata": {
        "id": "v2n1p2cbZgEo"
      },
      "source": [
        "df = pd.read_csv('/content/drive/My Drive/Dataset/fer2013.csv')"
      ],
      "execution_count": 6,
      "outputs": []
    },
    {
      "cell_type": "code",
      "metadata": {
        "id": "QMgOwgVPeWAj",
        "outputId": "d9557182-585b-47ce-eb2c-5635219a5acd",
        "colab": {
          "base_uri": "https://localhost:8080/"
        }
      },
      "source": [
        "from google.colab import drive\n",
        "drive.mount('/content/drive')"
      ],
      "execution_count": 5,
      "outputs": [
        {
          "output_type": "stream",
          "text": [
            "Mounted at /content/drive\n"
          ],
          "name": "stdout"
        }
      ]
    },
    {
      "cell_type": "code",
      "metadata": {
        "id": "jhP-fD5Feo9u",
        "outputId": "1e9df7d4-c36c-440d-ecbd-34c5cecd209e",
        "colab": {
          "base_uri": "https://localhost:8080/",
          "height": 204
        }
      },
      "source": [
        "df.head()"
      ],
      "execution_count": 7,
      "outputs": [
        {
          "output_type": "execute_result",
          "data": {
            "text/html": [
              "<div>\n",
              "<style scoped>\n",
              "    .dataframe tbody tr th:only-of-type {\n",
              "        vertical-align: middle;\n",
              "    }\n",
              "\n",
              "    .dataframe tbody tr th {\n",
              "        vertical-align: top;\n",
              "    }\n",
              "\n",
              "    .dataframe thead th {\n",
              "        text-align: right;\n",
              "    }\n",
              "</style>\n",
              "<table border=\"1\" class=\"dataframe\">\n",
              "  <thead>\n",
              "    <tr style=\"text-align: right;\">\n",
              "      <th></th>\n",
              "      <th>emotion</th>\n",
              "      <th>pixels</th>\n",
              "      <th>Usage</th>\n",
              "    </tr>\n",
              "  </thead>\n",
              "  <tbody>\n",
              "    <tr>\n",
              "      <th>0</th>\n",
              "      <td>0</td>\n",
              "      <td>70 80 82 72 58 58 60 63 54 58 60 48 89 115 121...</td>\n",
              "      <td>Training</td>\n",
              "    </tr>\n",
              "    <tr>\n",
              "      <th>1</th>\n",
              "      <td>0</td>\n",
              "      <td>151 150 147 155 148 133 111 140 170 174 182 15...</td>\n",
              "      <td>Training</td>\n",
              "    </tr>\n",
              "    <tr>\n",
              "      <th>2</th>\n",
              "      <td>2</td>\n",
              "      <td>231 212 156 164 174 138 161 173 182 200 106 38...</td>\n",
              "      <td>Training</td>\n",
              "    </tr>\n",
              "    <tr>\n",
              "      <th>3</th>\n",
              "      <td>4</td>\n",
              "      <td>24 32 36 30 32 23 19 20 30 41 21 22 32 34 21 1...</td>\n",
              "      <td>Training</td>\n",
              "    </tr>\n",
              "    <tr>\n",
              "      <th>4</th>\n",
              "      <td>6</td>\n",
              "      <td>4 0 0 0 0 0 0 0 0 0 0 0 3 15 23 28 48 50 58 84...</td>\n",
              "      <td>Training</td>\n",
              "    </tr>\n",
              "  </tbody>\n",
              "</table>\n",
              "</div>"
            ],
            "text/plain": [
              "   emotion                                             pixels     Usage\n",
              "0        0  70 80 82 72 58 58 60 63 54 58 60 48 89 115 121...  Training\n",
              "1        0  151 150 147 155 148 133 111 140 170 174 182 15...  Training\n",
              "2        2  231 212 156 164 174 138 161 173 182 200 106 38...  Training\n",
              "3        4  24 32 36 30 32 23 19 20 30 41 21 22 32 34 21 1...  Training\n",
              "4        6  4 0 0 0 0 0 0 0 0 0 0 0 3 15 23 28 48 50 58 84...  Training"
            ]
          },
          "metadata": {
            "tags": []
          },
          "execution_count": 7
        }
      ]
    },
    {
      "cell_type": "code",
      "metadata": {
        "id": "cKnmzTZYesWH"
      },
      "source": [
        "emotion_label_to_text = {0:'anger', 1:'disgust', 2:'fear', 3:'happiness', 4: 'sadness', 5: 'surprise', 6: 'neutral'}"
      ],
      "execution_count": 8,
      "outputs": []
    },
    {
      "cell_type": "code",
      "metadata": {
        "id": "APpLtj2K_Kuf",
        "outputId": "08bd034c-3d29-490f-a32d-6b6a083c31b5",
        "colab": {
          "base_uri": "https://localhost:8080/"
        }
      },
      "source": [
        "df.emotion.value_counts()"
      ],
      "execution_count": 9,
      "outputs": [
        {
          "output_type": "execute_result",
          "data": {
            "text/plain": [
              "3    8989\n",
              "6    6198\n",
              "4    6077\n",
              "2    5121\n",
              "0    4953\n",
              "5    4002\n",
              "1     547\n",
              "Name: emotion, dtype: int64"
            ]
          },
          "metadata": {
            "tags": []
          },
          "execution_count": 9
        }
      ]
    },
    {
      "cell_type": "markdown",
      "metadata": {
        "id": "lEugVs1D_6dQ"
      },
      "source": [
        "### Visualize Dataset"
      ]
    },
    {
      "cell_type": "code",
      "metadata": {
        "id": "X_hgeksZALgO",
        "outputId": "079d215e-8ef4-4de3-c640-322e66d8906c",
        "colab": {
          "base_uri": "https://localhost:8080/",
          "height": 177
        }
      },
      "source": [
        "fig = plt.figure(1, (14, 14))\n",
        "\n",
        "k = 0\n",
        "for label in sorted(df.emotion.unique()):\n",
        "    for j in range(1):\n",
        "        px = df[df.emotion==label].pixels.iloc[k]\n",
        "        px = np.array(px.split(' ')).reshape(48, 48).astype('float32')\n",
        "\n",
        "        k += 1\n",
        "        ax = plt.subplot(7, 7, k)\n",
        "        ax.imshow(px , cmap='gray')\n",
        "        ax.set_xticks([])\n",
        "        ax.set_yticks([])\n",
        "        ax.set_title(emotion_label_to_text[label])\n",
        "        plt.tight_layout()"
      ],
      "execution_count": 10,
      "outputs": [
        {
          "output_type": "display_data",
          "data": {
            "image/png": "[encoded data removed]",
            "text/plain": [
              "<Figure size 1008x1008 with 7 Axes>"
            ]
          },
          "metadata": {
            "tags": []
          }
        }
      ]
    },
    {
      "cell_type": "markdown",
      "metadata": {
        "id": "-UZum1Kj6_M7"
      },
      "source": [
        "### Input and Output Data"
      ]
    },
    {
      "cell_type": "code",
      "metadata": {
        "id": "L_m-E9B47qKE"
      },
      "source": [
        "X = df.pixels.apply(lambda x: np.array(x.split(' ')).astype('float32'))\n",
        "X = np.stack(X, axis=0)\n",
        "Y = np.array(df['emotion'])"
      ],
      "execution_count": 11,
      "outputs": []
    },
    {
      "cell_type": "code",
      "metadata": {
        "id": "l2PZ9QFU71lF",
        "outputId": "c913f3b1-c52c-4fba-d415-134fe4ad9fc8",
        "colab": {
          "base_uri": "https://localhost:8080/"
        }
      },
      "source": [
        "X.shape"
      ],
      "execution_count": 12,
      "outputs": [
        {
          "output_type": "execute_result",
          "data": {
            "text/plain": [
              "(35887, 2304)"
            ]
          },
          "metadata": {
            "tags": []
          },
          "execution_count": 12
        }
      ]
    },
    {
      "cell_type": "code",
      "metadata": {
        "id": "NRwjY9Gc73E0",
        "outputId": "04b8b1ec-6d9e-4469-e0d7-076fc9059ebe",
        "colab": {
          "base_uri": "https://localhost:8080/"
        }
      },
      "source": [
        "Y.shape"
      ],
      "execution_count": 13,
      "outputs": [
        {
          "output_type": "execute_result",
          "data": {
            "text/plain": [
              "(35887,)"
            ]
          },
          "metadata": {
            "tags": []
          },
          "execution_count": 13
        }
      ]
    },
    {
      "cell_type": "markdown",
      "metadata": {
        "id": "5Bkn66Lr3AJC"
      },
      "source": [
        "# Preprocessing\n",
        "Face Alignment "
      ]
    },
    {
      "cell_type": "code",
      "metadata": {
        "id": "WKe-bgr41DhI"
      },
      "source": [
        "face_cascade = cv2.CascadeClassifier(cv2.data.haarcascades + 'haarcascade_frontalface_default.xml')\n",
        "eye_cascade = cv2.CascadeClassifier(cv2.data.haarcascades + 'haarcascade_eye.xml')"
      ],
      "execution_count": 14,
      "outputs": []
    },
    {
      "cell_type": "code",
      "metadata": {
        "id": "RauEPNDt1UNq"
      },
      "source": [
        "def face_align(gray):\n",
        "  sz = gray.shape\n",
        "  # Creating variable eyes\n",
        "  eyes = eye_cascade.detectMultiScale(gray, 1.3, 5)\n",
        "  if len(eyes) > 1 :\n",
        "    index=0\n",
        "    # Creating for loop in order to divide one eye from another\n",
        "    for (ex , ey,  ew,  eh) in eyes:\n",
        "      if index == 0:\n",
        "        eye_1 = (ex, ey, ew, eh)\n",
        "      elif index == 1:\n",
        "        eye_2 = (ex, ey, ew, eh)\n",
        "      index += 1\n",
        "    if eye_1[0] < eye_2[0]:\n",
        "      left_eye = eye_1\n",
        "      right_eye = eye_2\n",
        "    else:\n",
        "      left_eye = eye_2\n",
        "      right_eye = eye_1\n",
        "        \n",
        "    # Calculating coordinates of a central points of the rectangles\n",
        "    left_eye_center = (int(left_eye[0] + (left_eye[2] / 2)), int(left_eye[1] + (left_eye[3] / 2)))\n",
        "    left_eye_x = left_eye_center[0] \n",
        "    left_eye_y = left_eye_center[1]\n",
        "        \n",
        "    right_eye_center = (int(right_eye[0] + (right_eye[2]/2)), int(right_eye[1] + (right_eye[3]/2)))\n",
        "    right_eye_x = right_eye_center[0]\n",
        "    right_eye_y = right_eye_center[1]\n",
        "\n",
        "    if left_eye_y > right_eye_y:\n",
        "      A = (right_eye_x, left_eye_y)\n",
        "      # Integer -1 indicates that the image will rotate in the clockwise direction\n",
        "      direction = -1 \n",
        "    else:\n",
        "      A = (left_eye_x, right_eye_y)\n",
        "      # Integer 1 indicates that image will rotate in the counter clockwise direction\n",
        "      direction = 1 \n",
        "        \n",
        "    delta_x = right_eye_x - left_eye_x\n",
        "    delta_y = right_eye_y - left_eye_y\n",
        "    angle=np.arctan(delta_y/delta_x)\n",
        "    angle = (angle * 180) / np.pi\n",
        "\n",
        "    # Width and height of the image\n",
        "    h, w = gray.shape[:2]\n",
        "    # Calculating a center point of the image\n",
        "    # Integer division \"//\"\" ensures that we receive whole numbers\n",
        "    center = (w // 2, h // 2)\n",
        "    # Defining a matrix M and calling\n",
        "    # cv2.getRotationMatrix2D method\n",
        "    M = cv2.getRotationMatrix2D(center, (angle), 1.0)\n",
        "    # Applying the rotation to our image using the\n",
        "    # cv2.warpAffine method\n",
        "    gray = cv2.warpAffine(gray, M, (w, h))\n",
        "\n",
        "    #Again detecting face\n",
        "    faces = face_cascade.detectMultiScale(gray, 1.3, 5)\n",
        "    if len(faces) > 0 : \n",
        "      (x,y,w,h) = faces[0]\n",
        "      gray = gray[y:y+h, x:x+w]\n",
        "\n",
        "  gray = cv2.resize(gray,sz) \n",
        "  return gray"
      ],
      "execution_count": 15,
      "outputs": []
    },
    {
      "cell_type": "code",
      "metadata": {
        "id": "9A5NId4E4hXB"
      },
      "source": [
        "X_new = []\n",
        "for j in range(X.shape[0]):\n",
        "  px = np.array(X[j]).reshape(48,48)\n",
        "  px = np.array(px, dtype='uint8')\n",
        "  px = face_align(px)\n",
        "  X_new.append(np.array(px).reshape(48*48))\n",
        "X = np.array(X_new)"
      ],
      "execution_count": 16,
      "outputs": []
    },
    {
      "cell_type": "code",
      "metadata": {
        "id": "0cYBbal5TotN",
        "outputId": "337c2b8f-8a29-44ee-b645-dd0bba0b6a20",
        "colab": {
          "base_uri": "https://localhost:8080/",
          "height": 286
        }
      },
      "source": [
        "px = cv2.imread('/content/drive/My Drive/Dataset/Robert-Downey-Jr-Avengers-Endgame.jpg')\n",
        "plt.imshow(px)\n",
        "gray=cv2.cvtColor(px, cv2.COLOR_BGR2GRAY)\n",
        "gray = face_align(gray)\n",
        "plt.imshow(gray)"
      ],
      "execution_count": 17,
      "outputs": [
        {
          "output_type": "execute_result",
          "data": {
            "text/plain": [
              "<matplotlib.image.AxesImage at 0x7fc9d3e57cf8>"
            ]
          },
          "metadata": {
            "tags": []
          },
          "execution_count": 17
        },
        {
          "output_type": "display_data",
          "data": {
            "image/png": "[encoded data removed]",
            "text/plain": [
              "<Figure size 432x288 with 1 Axes>"
            ]
          },
          "metadata": {
            "tags": [],
            "needs_background": "light"
          }
        }
      ]
    },
    {
      "cell_type": "markdown",
      "metadata": {
        "id": "fU-qWQvU1gEK"
      },
      "source": [
        "#### Confusion Matrix"
      ]
    },
    {
      "cell_type": "code",
      "metadata": {
        "id": "X8w2jIC41is1"
      },
      "source": [
        "# Plot confusion matrix \n",
        "\n",
        "import seaborn as sns\n",
        "import matplotlib.pyplot as plt\n",
        "\n",
        "def create_confmat(true_labels, predicted_labels, columns, colour = 'Greens', size = (20,14)):\n",
        "    sns.set(font_scale=1.5)\n",
        "    cm = confusion_matrix(true_labels, predicted_labels) \n",
        "    cm_df = pd.DataFrame(cm,\n",
        "    index = [col for col in columns], \n",
        "    columns = [col for col in columns])\n",
        "    plt.figure(figsize=(18,16))\n",
        "    sns.heatmap(cm_df, annot = True, cmap = colour, fmt='g', linewidths=.2)\n",
        "    plt.title('Confusion Matrix', fontsize = 20)\n",
        "    plt.ylabel('True label', fontsize = 18)\n",
        "    plt.xlabel('Predicted label', fontsize = 18)\n",
        "    plt.tick_params(axis='both', labelsize=14)\n",
        "    plt.show()"
      ],
      "execution_count": 18,
      "outputs": []
    },
    {
      "cell_type": "markdown",
      "metadata": {
        "id": "u2L5tZPzIjmo"
      },
      "source": [
        "### Train and Test Split for KNN and SVM\n"
      ]
    },
    {
      "cell_type": "code",
      "metadata": {
        "id": "0c1CFeRC-Snf",
        "outputId": "17feaa86-1070-4fed-8837-9dba6fa168b9",
        "colab": {
          "base_uri": "https://localhost:8080/"
        }
      },
      "source": [
        "X_train, X_valid, y_train, y_valid = train_test_split(X, Y,\n",
        "                                                    shuffle=True, stratify=Y,\n",
        "                                                    test_size=0.2, random_state=2)\n",
        "X_train.shape, X_valid.shape, y_train.shape, y_valid.shape"
      ],
      "execution_count": 19,
      "outputs": [
        {
          "output_type": "execute_result",
          "data": {
            "text/plain": [
              "((28709, 2304), (7178, 2304), (28709,), (7178,))"
            ]
          },
          "metadata": {
            "tags": []
          },
          "execution_count": 19
        }
      ]
    },
    {
      "cell_type": "markdown",
      "metadata": {
        "id": "QzOfoe23PM3r"
      },
      "source": [
        "###PCA to retain 95% variation and reduce dataset size"
      ]
    },
    {
      "cell_type": "code",
      "metadata": {
        "id": "8X4K-fKLe6HD",
        "outputId": "6f38c98d-7d44-42b6-f2d3-3615689db274",
        "colab": {
          "base_uri": "https://localhost:8080/"
        }
      },
      "source": [
        "scaler = StandardScaler()\n",
        "X_train = scaler.fit_transform(X_train.astype(np.float32))\n",
        "X_valid = scaler.transform(X_valid.astype(np.float32))\n",
        "pca = PCA(n_components=.95)\n",
        "pca.fit(X_train)\n",
        "X_test_p = pca.transform(X_valid)\n",
        "X_train_p = pca.transform(X_train)\n",
        "scaler = StandardScaler()\n",
        "X_train_p = scaler.fit_transform(X_train_p.astype(np.float32))\n",
        "X_test_p = scaler.transform(X_test_p.astype(np.float32))\n",
        "X_train_p.shape ,X_test_p.shape \n"
      ],
      "execution_count": null,
      "outputs": [
        {
          "output_type": "execute_result",
          "data": {
            "text/plain": [
              "((28709, 269), (7178, 269))"
            ]
          },
          "metadata": {
            "tags": []
          },
          "execution_count": 16
        }
      ]
    },
    {
      "cell_type": "markdown",
      "metadata": {
        "id": "9RQub0P71cFS"
      },
      "source": [
        "# SVM"
      ]
    },
    {
      "cell_type": "markdown",
      "metadata": {
        "id": "TLeeGPIgRQNj"
      },
      "source": [
        "####Using Linear kernel"
      ]
    },
    {
      "cell_type": "code",
      "metadata": {
        "id": "RevNX7LUNRYk",
        "outputId": "96b4eec3-468f-4d14-d3b6-2bf11ec5c959",
        "colab": {
          "base_uri": "https://localhost:8080/"
        }
      },
      "source": [
        "model = SVC(kernel = 'linear')\n",
        "model.fit(X_train_p,y_train)\n",
        "model.score(X_test_p , y_valid)"
      ],
      "execution_count": null,
      "outputs": [
        {
          "output_type": "execute_result",
          "data": {
            "text/plain": [
              "0.37405962663694625"
            ]
          },
          "metadata": {
            "tags": []
          },
          "execution_count": 17
        }
      ]
    },
    {
      "cell_type": "markdown",
      "metadata": {
        "id": "f2hICUX1W4AQ"
      },
      "source": [
        "####Using rbf kernel"
      ]
    },
    {
      "cell_type": "code",
      "metadata": {
        "id": "8ZARF4IkW6rl",
        "outputId": "b314e123-2c1b-4361-fabc-19196f2bc7f5",
        "colab": {
          "base_uri": "https://localhost:8080/"
        }
      },
      "source": [
        "model = SVC(kernel ='rbf')\n",
        "model.fit(X_train_p,y_train)\n",
        "model.score(X_test_p , y_valid)"
      ],
      "execution_count": null,
      "outputs": [
        {
          "output_type": "execute_result",
          "data": {
            "text/plain": [
              "0.4605739760378936"
            ]
          },
          "metadata": {
            "tags": []
          },
          "execution_count": 18
        }
      ]
    },
    {
      "cell_type": "markdown",
      "metadata": {
        "id": "Ma2HJ4hSQi_u"
      },
      "source": [
        "# KNN"
      ]
    },
    {
      "cell_type": "markdown",
      "metadata": {
        "id": "_ZEuGMjJacjB"
      },
      "source": [
        "##KNN from scratch"
      ]
    },
    {
      "cell_type": "code",
      "metadata": {
        "id": "pcdJ81kcgtu3"
      },
      "source": [
        "def distance(v1, v2):\n",
        "\t# Eucledian \n",
        "\treturn np.sqrt(((v1-v2)**2).sum())"
      ],
      "execution_count": 20,
      "outputs": []
    },
    {
      "cell_type": "code",
      "metadata": {
        "id": "JCraIo6FtHua",
        "outputId": "4580e589-a020-4490-c409-c497269deaed",
        "colab": {
          "base_uri": "https://localhost:8080/"
        }
      },
      "source": [
        "X_train, X_valid, y_train, y_valid = train_test_split(X, Y,\n",
        "                                                    shuffle=True, stratify=Y,\n",
        "                                                    test_size=0.01, random_state=2)\n",
        "X_train.shape, X_valid.shape, y_train.shape, y_valid.shape"
      ],
      "execution_count": 46,
      "outputs": [
        {
          "output_type": "execute_result",
          "data": {
            "text/plain": [
              "((35528, 2304), (359, 2304), (35528,), (359,))"
            ]
          },
          "metadata": {
            "tags": []
          },
          "execution_count": 46
        }
      ]
    },
    {
      "cell_type": "code",
      "metadata": {
        "id": "cBcUOaifAUJV"
      },
      "source": [
        "def knn(X_train, Y_train , test , num ):\n",
        "\tdist = []\n",
        "\t\n",
        "\tfor i in range(X_train.shape[0]):\n",
        "\t\t# Compute the distance from test point\n",
        "\t\td = distance(test, X_train[i])\n",
        "\t\tdist.append([d, Y_train[i]])\n",
        "\t# Sort based on distance \n",
        "\tdk = sorted(dist, key=lambda x : x[0])\n",
        "\t# Retrieve only the labels\n",
        "\tlabels = np.array(dk)[:,-1]\n",
        "\toutput = np.zeros(7)\n",
        "\tanswer = []\n",
        "\tj = 0\n",
        "\tfor k in range(num):\n",
        "\t\toutput[int(labels[k])]+=1\n",
        "\t\t#u,indices = np.unique(output,return_counts = True)\n",
        "\t\t#if indices[-1] == 1 or k == num - 1: \n",
        "\t\t#\twhile j <= k : \n",
        "\t\tanswer.append( np.argmax(output) )\n",
        "\t\t#\t\tj+=1\n",
        "\treturn answer\n",
        "\n",
        "\t# Get frequencies of each label\n",
        "\t#output = np.unique(labels, return_counts=True)\n",
        "\t# Find max frequency and corresponding label\n",
        "\t#index = np.argmax(output[1])\n",
        "\t#return output[0][index]"
      ],
      "execution_count": 47,
      "outputs": []
    },
    {
      "cell_type": "code",
      "metadata": {
        "id": "ULNwJs0cYOYG"
      },
      "source": [
        "def wknn(X_train, Y_train , test , num ):\n",
        "\tdist = []\n",
        "\tfor i in range(X_train.shape[0]):\n",
        "\t\t# Compute the distance from test point\n",
        "\t\td = distance(test, X_train[i])\n",
        "\t\tif d == 0:\n",
        "\t\t\td = 0.00000000001 \n",
        "\t\tdist.append([1/(d*d), Y_train[i]])\n",
        "\t# Sort reverse based on distance and get top k\n",
        "\tdk = sorted(dist, key=lambda x : x[0] , reverse = True)\n",
        "\toutput = np.zeros(7)\n",
        "\tanswer = []\n",
        "\tfor k in range(num):\n",
        "\t\toutput[int(dk[k][1])] += dk[k][0] \n",
        "\t\tanswer.append( np.argmax(output) )\n",
        "\treturn answer\n",
        "\n",
        "\t# Get frequencies of each label\n",
        "\t#output = np.unique(labels, return_counts=True)\n",
        "\t# Find max frequency and corresponding label\n",
        "\t#index = np.argmax(output[1])\n",
        "\t#return output[0][index]"
      ],
      "execution_count": 48,
      "outputs": []
    },
    {
      "cell_type": "code",
      "metadata": {
        "id": "U8O5wPSmCP7k",
        "outputId": "abe1754d-3dca-402b-a26e-bcee4afa63ae",
        "colab": {
          "base_uri": "https://localhost:8080/"
        }
      },
      "source": [
        "start_time = time.time()\n",
        "\n",
        "num = 10\n",
        "cnt = np.zeros(num)\n",
        "y_pred_manually = []\n",
        "\n",
        "for i in range(X_valid.shape[0]):\n",
        "  answer = knn(X_train , y_train , X_valid[i] ,num)\n",
        "  y_pred_manually.append(answer[0])\n",
        "  for j in range(num):\n",
        "    cnt[j] += answer[j] == y_valid[i]\n",
        "\n",
        "accuracy = cnt/X_valid.shape[0]\n",
        "\n",
        "print(\"Maximum Accuracy :\",max(accuracy)*100 ,\"%\")\n",
        "print(\"Value of K :\",np.argmax(accuracy)+1)\n",
        "print(\"Time taken to execute : %s seconds \" % (time.time() - start_time))"
      ],
      "execution_count": 49,
      "outputs": [
        {
          "output_type": "stream",
          "text": [
            "Maximum Accuracy : 41.5041782729805 %\n",
            "Value of K : 1\n",
            "Time taken to execute : 173.55184864997864 seconds \n"
          ],
          "name": "stdout"
        }
      ]
    },
    {
      "cell_type": "code",
      "metadata": {
        "id": "yMAfyiVof-S_",
        "outputId": "a15907d7-be5b-4b82-e173-ca1210f1ffab",
        "colab": {
          "base_uri": "https://localhost:8080/",
          "height": 387
        }
      },
      "source": [
        "plt.style.use('seaborn')\n",
        "\n",
        "plt.plot(list(range(1,11)) , accuracy , marker= 'o')\n",
        "plt.legend(loc = 'upper left',fontsize = 16)\n",
        "plt.xlabel(\"Value of K\",fontsize = 20)\n",
        "plt.ylabel(\"Accuracy\",fontsize = 20)\n",
        "plt.show()"
      ],
      "execution_count": 50,
      "outputs": [
        {
          "output_type": "stream",
          "text": [
            "No handles with labels found to put in legend.\n"
          ],
          "name": "stderr"
        },
        {
          "output_type": "display_data",
          "data": {
            "image/png": "[encoded data removed]",
            "text/plain": [
              "<Figure size 576x396 with 1 Axes>"
            ]
          },
          "metadata": {
            "tags": []
          }
        }
      ]
    },
    {
      "cell_type": "code",
      "metadata": {
        "id": "UioV7wfgRcXR",
        "outputId": "fc348cd5-40da-4175-b57a-23e3aff03b13",
        "colab": {
          "base_uri": "https://localhost:8080/"
        }
      },
      "source": [
        "start_time = time.time()\n",
        "\n",
        "num = 10\n",
        "cnt = np.zeros(num)\n",
        "y_pred_manually = []\n",
        "\n",
        "for i in range(X_valid.shape[0]):\n",
        "  answer = wknn(X_train , y_train , X_valid[i] ,num)\n",
        "  y_pred_manually.append(answer[0])\n",
        "  for j in range(num):\n",
        "    cnt[j] += answer[j] == y_valid[i]\n",
        "\n",
        "accuracy = cnt/X_valid.shape[0]\n",
        "\n",
        "print(\"Maximum Accuracy :\",max(accuracy)*100 ,\"%\")\n",
        "print(\"Value of K :\",np.argmax(accuracy)+1)\n",
        "print(\"Time taken to execute : %s seconds \" % (time.time() - start_time))"
      ],
      "execution_count": 51,
      "outputs": [
        {
          "output_type": "stream",
          "text": [
            "Maximum Accuracy : 43.17548746518106 %\n",
            "Value of K : 8\n",
            "Time taken to execute : 168.51690769195557 seconds \n"
          ],
          "name": "stdout"
        }
      ]
    },
    {
      "cell_type": "code",
      "metadata": {
        "id": "euxRCyB3Re7v",
        "outputId": "58f91f94-732a-4228-d610-aefae0ac7449",
        "colab": {
          "base_uri": "https://localhost:8080/",
          "height": 387
        }
      },
      "source": [
        "plt.style.use('seaborn')\n",
        "\n",
        "plt.plot(list(range(1,11)) , accuracy , marker= 'o')\n",
        "plt.legend(loc = 'upper left',fontsize = 16)\n",
        "plt.xlabel(\"Value of K\",fontsize = 20)\n",
        "plt.ylabel(\"Accuracy\",fontsize = 20)\n",
        "plt.show()"
      ],
      "execution_count": 52,
      "outputs": [
        {
          "output_type": "stream",
          "text": [
            "No handles with labels found to put in legend.\n"
          ],
          "name": "stderr"
        },
        {
          "output_type": "display_data",
          "data": {
            "image/png": "[encoded data removed]",
            "text/plain": [
              "<Figure size 576x396 with 1 Axes>"
            ]
          },
          "metadata": {
            "tags": []
          }
        }
      ]
    },
    {
      "cell_type": "markdown",
      "metadata": {
        "id": "7FDqjk2KQdym"
      },
      "source": [
        "##Applying KNN using SkLearn Library"
      ]
    },
    {
      "cell_type": "markdown",
      "metadata": {
        "id": "_TcsBomVX8kt"
      },
      "source": [
        "####Executing sklearn library code to compare on K=1"
      ]
    },
    {
      "cell_type": "code",
      "metadata": {
        "id": "QGzu5duARglA",
        "outputId": "1f585b79-f04b-4577-b243-298edfeea842",
        "colab": {
          "base_uri": "https://localhost:8080/"
        }
      },
      "source": [
        "from sklearn.neighbors import KNeighborsClassifier\n",
        "classifier = KNeighborsClassifier(n_neighbors=1)\n",
        "classifier.fit(X_train, y_train)\n",
        "classifier.score(X_valid,y_valid)"
      ],
      "execution_count": 53,
      "outputs": [
        {
          "output_type": "execute_result",
          "data": {
            "text/plain": [
              "0.41225626740947074"
            ]
          },
          "metadata": {
            "tags": []
          },
          "execution_count": 53
        }
      ]
    },
    {
      "cell_type": "code",
      "metadata": {
        "id": "IJS6uh7MSqfG",
        "outputId": "246772bd-b0a1-45fb-aee0-812735caba7e",
        "colab": {
          "base_uri": "https://localhost:8080/"
        }
      },
      "source": [
        "start_time = time.time()\n",
        "y_pred = classifier.predict(X_valid)\n",
        "print(\"Time Taken : %s seconds \" % (time.time() - start_time))"
      ],
      "execution_count": 54,
      "outputs": [
        {
          "output_type": "stream",
          "text": [
            "Time Taken : 66.25370788574219 seconds \n"
          ],
          "name": "stdout"
        }
      ]
    },
    {
      "cell_type": "code",
      "metadata": {
        "id": "gQdqpwksStFp",
        "outputId": "c0f980dc-edec-4cf6-9422-fe841e4e218c",
        "colab": {
          "base_uri": "https://localhost:8080/"
        }
      },
      "source": [
        "cnt = 0\n",
        "for i in range(X_valid.shape[0]):\n",
        "   cnt += y_pred[i] == y_valid[i]\n",
        "print(\"Accuracy :\", cnt/X_valid.shape[0]*100, \"%\")"
      ],
      "execution_count": 55,
      "outputs": [
        {
          "output_type": "stream",
          "text": [
            "Accuracy : 41.22562674094708 %\n"
          ],
          "name": "stdout"
        }
      ]
    },
    {
      "cell_type": "code",
      "metadata": {
        "id": "6evJgz-0vE1T",
        "outputId": "4fb5b145-933e-48db-a8e3-f366cce2ac46",
        "colab": {
          "base_uri": "https://localhost:8080/"
        }
      },
      "source": [
        "# Checking manually code prediction with the library code prediction\n",
        "cnt = 0\n",
        "for i in range(X_valid.shape[0]):\n",
        "   cnt += y_pred[i] == y_pred_manually[i]\n",
        "print(\"Accuracy :\", cnt/X_valid.shape[0]*100, \"%\")\n",
        "# All Prediction on these examples are exactly same"
      ],
      "execution_count": 56,
      "outputs": [
        {
          "output_type": "stream",
          "text": [
            "Accuracy : 39.83286908077994 %\n"
          ],
          "name": "stdout"
        }
      ]
    },
    {
      "cell_type": "markdown",
      "metadata": {
        "id": "MvcHrhBBYjYt"
      },
      "source": [
        "####KNN using default parameters"
      ]
    },
    {
      "cell_type": "code",
      "metadata": {
        "id": "rhK-Fw5MYnuT",
        "outputId": "033d73fd-07aa-4691-d9b5-e49903cb55f2",
        "colab": {
          "base_uri": "https://localhost:8080/"
        }
      },
      "source": [
        "knn = KNeighborsClassifier()\n",
        "knn.fit(X_train_p ,y_train)\n",
        "knn.score(X_test_p,y_valid)"
      ],
      "execution_count": null,
      "outputs": [
        {
          "output_type": "execute_result",
          "data": {
            "text/plain": [
              "0.2679019225410978"
            ]
          },
          "metadata": {
            "tags": []
          },
          "execution_count": 21
        }
      ]
    },
    {
      "cell_type": "markdown",
      "metadata": {
        "id": "3LpbfgW5Yo9t"
      },
      "source": [
        "####KNN using distance as weight"
      ]
    },
    {
      "cell_type": "code",
      "metadata": {
        "id": "S4dGHUM0YuRe",
        "outputId": "8648a832-8055-4e6c-af15-5ddc226d06e3",
        "colab": {
          "base_uri": "https://localhost:8080/"
        }
      },
      "source": [
        "knn = KNeighborsClassifier(weights='distance')\n",
        "knn.fit(X_train_p,y_train)\n",
        "knn.score(X_test_p,y_valid)"
      ],
      "execution_count": null,
      "outputs": [
        {
          "output_type": "execute_result",
          "data": {
            "text/plain": [
              "0.3066313736416829"
            ]
          },
          "metadata": {
            "tags": []
          },
          "execution_count": 23
        }
      ]
    },
    {
      "cell_type": "markdown",
      "metadata": {
        "id": "BWa9WZat2oEz"
      },
      "source": [
        "END KNN"
      ]
    },
    {
      "cell_type": "markdown",
      "metadata": {
        "id": "XRWqTCIRWhrJ"
      },
      "source": [
        "# CNN \n",
        "\n",
        "\n"
      ]
    },
    {
      "cell_type": "code",
      "metadata": {
        "id": "D80uazEFeXZf",
        "outputId": "4a790875-8cf4-46ce-8034-eeb6f8c2b293",
        "colab": {
          "base_uri": "https://localhost:8080/"
        }
      },
      "source": [
        "X_train, X_valid, y_train, y_valid = train_test_split(X, Y,\n",
        "                                                    shuffle=True, stratify=Y,\n",
        "                                                    test_size=0.1, random_state=2)\n",
        "X_train.shape, X_valid.shape, y_train.shape, y_valid.shape"
      ],
      "execution_count": 31,
      "outputs": [
        {
          "output_type": "execute_result",
          "data": {
            "text/plain": [
              "((32298, 2304), (3589, 2304), (32298,), (3589,))"
            ]
          },
          "metadata": {
            "tags": []
          },
          "execution_count": 31
        }
      ]
    },
    {
      "cell_type": "code",
      "metadata": {
        "id": "z9csGCr1hyJt"
      },
      "source": [
        "import keras\n",
        "from keras.preprocessing.image import ImageDataGenerator\n",
        "from keras.models import Sequential , load_model\n",
        "from keras.layers import Convolution2D, Activation, BatchNormalization, MaxPooling2D, Dropout, Dense, Flatten, AveragePooling2D\n",
        "from keras.initializers import  RandomNormal\n",
        "from keras.layers import Conv2D,MaxPooling2D\n",
        "from keras.optimizers import RMSprop,SGD,Adam\n",
        "from keras.callbacks import ModelCheckpoint, TensorBoard ,EarlyStopping, ReduceLROnPlateau"
      ],
      "execution_count": 32,
      "outputs": []
    },
    {
      "cell_type": "code",
      "metadata": {
        "id": "IMYY6LAMMIdv"
      },
      "source": [
        "from sklearn import preprocessing\n",
        "X_train = preprocessing.normalize(X_train)\n",
        "X_valid = preprocessing.normalize(X_valid)"
      ],
      "execution_count": 33,
      "outputs": []
    },
    {
      "cell_type": "code",
      "metadata": {
        "id": "acHuu7v0VbU1"
      },
      "source": [
        "X_train = X_train.reshape(X_train.shape[0],48,48,1)\n",
        "X_valid = X_valid.reshape(X_valid.shape[0],48,48,1)"
      ],
      "execution_count": 34,
      "outputs": []
    },
    {
      "cell_type": "code",
      "metadata": {
        "id": "nKyWBvOuPrR0",
        "outputId": "9d42579f-ffc6-4261-ba93-920e901b6cb4",
        "colab": {
          "base_uri": "https://localhost:8080/"
        }
      },
      "source": [
        "from keras.utils import np_utils\n",
        "num_classes = 7\n",
        "print(\"Shape before one-hot encoding: \", y_train.shape)\n",
        "y_train = np_utils.to_categorical(y_train, num_classes)\n",
        "y_valid = np_utils.to_categorical(y_valid, num_classes)\n",
        "print(\"Shape after one-hot encoding: \", y_train.shape)\n",
        "\n",
        "print(X_train.shape , y_train.shape)\n",
        "print(X_valid.shape , y_valid.shape)"
      ],
      "execution_count": 35,
      "outputs": [
        {
          "output_type": "stream",
          "text": [
            "Shape before one-hot encoding:  (32298,)\n",
            "Shape after one-hot encoding:  (32298, 7)\n",
            "(32298, 48, 48, 1) (32298, 7)\n",
            "(3589, 48, 48, 1) (3589, 7)\n"
          ],
          "name": "stdout"
        }
      ]
    },
    {
      "cell_type": "code",
      "metadata": {
        "id": "yVLpYsAqQeGj"
      },
      "source": [
        "def get_cnn_model():\n",
        "    model = Sequential()\n",
        "\n",
        "    model.add(Convolution2D(64, (3, 3), padding='same', input_shape=(48,48,1)))\n",
        "    model.add(Convolution2D(64, (3, 3), padding='same'))\n",
        "    model.add(BatchNormalization())\n",
        "    model.add(Activation('relu'))\n",
        "    model.add(MaxPooling2D(pool_size=(2, 2), strides=None, padding='same'))\n",
        "    model.add(Dropout(0.25))\n",
        "\n",
        "    model.add(Convolution2D(128, (3, 3), padding='same'))\n",
        "    model.add(Convolution2D(128, (3, 3), padding='same'))\n",
        "    model.add(BatchNormalization())\n",
        "    model.add(Activation('relu'))\n",
        "    model.add(MaxPooling2D(pool_size=(2, 2), strides=None, padding='same'))\n",
        "    model.add(Dropout(0.25))\n",
        "\n",
        "    model.add(Convolution2D(256, (3, 3), padding='same'))\n",
        "    model.add(Convolution2D(256, (3, 3), padding='same'))\n",
        "    model.add(BatchNormalization())\n",
        "    model.add(Activation('relu'))\n",
        "    model.add(MaxPooling2D(pool_size=(2, 2), strides=None, padding='same'))\n",
        "    model.add(Dropout(0.25))\n",
        "\n",
        "    model.add(Convolution2D(512, (3, 3), padding='same'))\n",
        "    model.add(Convolution2D(512, (3, 3), padding='same'))\n",
        "    model.add(BatchNormalization())\n",
        "    model.add(Activation('relu'))\n",
        "    model.add(MaxPooling2D(pool_size=(2, 2), strides=None, padding='same'))\n",
        "    model.add(Dropout(0.25))\n",
        "\n",
        "    model.add(Flatten())\n",
        "\n",
        "    model.add(Dense(512))\n",
        "    model.add(BatchNormalization())\n",
        "    model.add(Activation('relu'))\n",
        "    model.add(Dropout(0.25))\n",
        "\n",
        "    model.add(Dense(256))\n",
        "    model.add(BatchNormalization())\n",
        "    model.add(Activation('relu'))\n",
        "    model.add(Dropout(0.25))\n",
        "\n",
        "    model.add(Dense(7))\n",
        "    model.add(Activation('softmax'))\n",
        "    return model"
      ],
      "execution_count": 36,
      "outputs": []
    },
    {
      "cell_type": "code",
      "metadata": {
        "id": "fkICc6GmvQgF",
        "outputId": "24243849-ccfe-49d1-e992-dcb16faba598",
        "colab": {
          "base_uri": "https://localhost:8080/"
        }
      },
      "source": [
        "model = get_cnn_model()\n",
        "model.summary()"
      ],
      "execution_count": 38,
      "outputs": [
        {
          "output_type": "stream",
          "text": [
            "Model: \"sequential\"\n",
            "_________________________________________________________________\n",
            "Layer (type)                 Output Shape              Param #   \n",
            "=================================================================\n",
            "conv2d (Conv2D)              (None, 48, 48, 64)        640       \n",
            "_________________________________________________________________\n",
            "conv2d_1 (Conv2D)            (None, 48, 48, 64)        36928     \n",
            "_________________________________________________________________\n",
            "batch_normalization (BatchNo (None, 48, 48, 64)        256       \n",
            "_________________________________________________________________\n",
            "activation (Activation)      (None, 48, 48, 64)        0         \n",
            "_________________________________________________________________\n",
            "max_pooling2d (MaxPooling2D) (None, 24, 24, 64)        0         \n",
            "_________________________________________________________________\n",
            "dropout (Dropout)            (None, 24, 24, 64)        0         \n",
            "_________________________________________________________________\n",
            "conv2d_2 (Conv2D)            (None, 24, 24, 128)       73856     \n",
            "_________________________________________________________________\n",
            "conv2d_3 (Conv2D)            (None, 24, 24, 128)       147584    \n",
            "_________________________________________________________________\n",
            "batch_normalization_1 (Batch (None, 24, 24, 128)       512       \n",
            "_________________________________________________________________\n",
            "activation_1 (Activation)    (None, 24, 24, 128)       0         \n",
            "_________________________________________________________________\n",
            "max_pooling2d_1 (MaxPooling2 (None, 12, 12, 128)       0         \n",
            "_________________________________________________________________\n",
            "dropout_1 (Dropout)          (None, 12, 12, 128)       0         \n",
            "_________________________________________________________________\n",
            "conv2d_4 (Conv2D)            (None, 12, 12, 256)       295168    \n",
            "_________________________________________________________________\n",
            "conv2d_5 (Conv2D)            (None, 12, 12, 256)       590080    \n",
            "_________________________________________________________________\n",
            "batch_normalization_2 (Batch (None, 12, 12, 256)       1024      \n",
            "_________________________________________________________________\n",
            "activation_2 (Activation)    (None, 12, 12, 256)       0         \n",
            "_________________________________________________________________\n",
            "max_pooling2d_2 (MaxPooling2 (None, 6, 6, 256)         0         \n",
            "_________________________________________________________________\n",
            "dropout_2 (Dropout)          (None, 6, 6, 256)         0         \n",
            "_________________________________________________________________\n",
            "conv2d_6 (Conv2D)            (None, 6, 6, 512)         1180160   \n",
            "_________________________________________________________________\n",
            "conv2d_7 (Conv2D)            (None, 6, 6, 512)         2359808   \n",
            "_________________________________________________________________\n",
            "batch_normalization_3 (Batch (None, 6, 6, 512)         2048      \n",
            "_________________________________________________________________\n",
            "activation_3 (Activation)    (None, 6, 6, 512)         0         \n",
            "_________________________________________________________________\n",
            "max_pooling2d_3 (MaxPooling2 (None, 3, 3, 512)         0         \n",
            "_________________________________________________________________\n",
            "dropout_3 (Dropout)          (None, 3, 3, 512)         0         \n",
            "_________________________________________________________________\n",
            "flatten (Flatten)            (None, 4608)              0         \n",
            "_________________________________________________________________\n",
            "dense (Dense)                (None, 512)               2359808   \n",
            "_________________________________________________________________\n",
            "batch_normalization_4 (Batch (None, 512)               2048      \n",
            "_________________________________________________________________\n",
            "activation_4 (Activation)    (None, 512)               0         \n",
            "_________________________________________________________________\n",
            "dropout_4 (Dropout)          (None, 512)               0         \n",
            "_________________________________________________________________\n",
            "dense_1 (Dense)              (None, 256)               131328    \n",
            "_________________________________________________________________\n",
            "batch_normalization_5 (Batch (None, 256)               1024      \n",
            "_________________________________________________________________\n",
            "activation_5 (Activation)    (None, 256)               0         \n",
            "_________________________________________________________________\n",
            "dropout_5 (Dropout)          (None, 256)               0         \n",
            "_________________________________________________________________\n",
            "dense_2 (Dense)              (None, 7)                 1799      \n",
            "_________________________________________________________________\n",
            "activation_6 (Activation)    (None, 7)                 0         \n",
            "=================================================================\n",
            "Total params: 7,184,071\n",
            "Trainable params: 7,180,615\n",
            "Non-trainable params: 3,456\n",
            "_________________________________________________________________\n"
          ],
          "name": "stdout"
        }
      ]
    },
    {
      "cell_type": "code",
      "metadata": {
        "id": "t8uNyf8tQj6O"
      },
      "source": [
        "model.compile(loss='categorical_crossentropy',\n",
        "              optimizer = Adam(lr=0.001, beta_1=0.9, beta_2=0.999, epsilon=1e-7),\n",
        "              metrics=['accuracy'])\n",
        "\n",
        "# Saving model each time it achieves lower loss on the validation set\n",
        "filepath='/content/drive/My Drive/Dataset/fer_vgg16_v2.h5'\n",
        "checkpointer = ModelCheckpoint(filepath, monitor='val_loss', verbose=1, save_best_only=True, mode='auto')\n",
        "\n",
        "earlystop = EarlyStopping(monitor='val_loss',\n",
        "                          min_delta=0,\n",
        "                          patience=8,\n",
        "                          verbose=1,\n",
        "                          restore_best_weights=True, mode = 'auto'\n",
        "                          )\n",
        "\n",
        "reduce_lr = ReduceLROnPlateau(monitor='val_loss',\n",
        "                              factor=0.9,\n",
        "                              patience=3,\n",
        "                              verbose=1,\n",
        "                              min_delta=0.0001)\n",
        "\n",
        "\n",
        "history = model.fit(X_train , y_train, batch_size = 32\n",
        "                   , epochs=35, \n",
        "                    validation_data=(X_valid, y_valid),\n",
        "                    callbacks=[checkpointer,earlystop,reduce_lr]\n",
        "                             )\n",
        "\n",
        "pd.DataFrame(history.history).to_csv(\"history.csv\")"
      ],
      "execution_count": null,
      "outputs": []
    },
    {
      "cell_type": "code",
      "metadata": {
        "id": "dxEp2ViKU4O7"
      },
      "source": [
        "fig = plt.figure()\n",
        "plt.subplot(2,1,1)\n",
        "plt.plot(history.history['accuracy'])\n",
        "plt.plot(history.history['val_accuracy'])\n",
        "plt.title('model accuracy')\n",
        "plt.ylabel('accuracy')\n",
        "plt.xlabel('epoch')\n",
        "plt.legend(['train', 'test'], loc='lower right')\n",
        "\n",
        "plt.subplot(2,1,2)\n",
        "plt.plot(history.history['loss'])\n",
        "plt.plot(history.history['val_loss'])\n",
        "plt.title('model loss')\n",
        "plt.ylabel('loss')\n",
        "plt.xlabel('epoch')\n",
        "plt.legend(['train', 'test'], loc='upper right')\n",
        "\n",
        "plt.tight_layout()"
      ],
      "execution_count": null,
      "outputs": []
    }
  ]
}